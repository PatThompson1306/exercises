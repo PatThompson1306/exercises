{
 "cells": [
  {
   "cell_type": "code",
   "execution_count": 2,
   "id": "db9b1b05",
   "metadata": {},
   "outputs": [],
   "source": [
    "import numpy as np # importing numpy library for numerical operations\n",
    "np.set_printoptions(precision =2, suppress = True) # setting print options to 2 decimal places and suppress scientific notation"
   ]
  },
  {
   "cell_type": "code",
   "execution_count": 3,
   "id": "9a95e3c3",
   "metadata": {},
   "outputs": [
    {
     "name": "stdout",
     "output_type": "stream",
     "text": [
      "[1 2 3 4 5 6]\n"
     ]
    }
   ],
   "source": [
    "a = np.array([1, 2, 3, 4, 5, 6]) # Creating a numpy array\n",
    "print(a) # Printing the array"
   ]
  },
  {
   "cell_type": "code",
   "execution_count": 4,
   "id": "56d023af",
   "metadata": {},
   "outputs": [
    {
     "name": "stdout",
     "output_type": "stream",
     "text": [
      "[[10 20 30]\n",
      " [40 50 60]]\n"
     ]
    }
   ],
   "source": [
    "b = np.array([[10, 20, 30], [40, 50, 60]]) # Creating a 2D numpy array (matrix)\n",
    "print(b) # Printing the matrix"
   ]
  },
  {
   "cell_type": "code",
   "execution_count": 5,
   "id": "6ea9d8f6",
   "metadata": {},
   "outputs": [
    {
     "name": "stdout",
     "output_type": "stream",
     "text": [
      "[  8.22  36.97 -30.23 -21.28 -34.45  -8.  ]\n"
     ]
    }
   ],
   "source": [
    "np.random.seed(25) # Setting seed for reproducibility\n",
    "c = 36 * np.random.randn(6) # Generating 6 random numbers from a normal distribution\n",
    "print(c) # Printing the random numbers"
   ]
  },
  {
   "cell_type": "code",
   "execution_count": 7,
   "id": "5840a365",
   "metadata": {},
   "outputs": [
    {
     "name": "stdout",
     "output_type": "stream",
     "text": [
      "[ 1  2  3  4  5  6  7  8  9 10 11 12 13 14 15 16 17 18 19 20 21 22 23 24\n",
      " 25 26 27 28 29 30 31 32 33 34]\n"
     ]
    }
   ],
   "source": [
    "d = np.arange(1, 35) # Creating an array with values from 1 to 34\n",
    "print(d) # Printing the array"
   ]
  },
  {
   "cell_type": "code",
   "execution_count": null,
   "id": "ff0ba1ea",
   "metadata": {},
   "outputs": [
    {
     "name": "stdout",
     "output_type": "stream",
     "text": [
      "[10 20 30 40 50 60]\n"
     ]
    }
   ],
   "source": [
    "print(a * 10) # multiplying each element of array 'a' by 10"
   ]
  },
  {
   "cell_type": "code",
   "execution_count": 10,
   "id": "42f50056",
   "metadata": {},
   "outputs": [
    {
     "name": "stdout",
     "output_type": "stream",
     "text": [
      "[  9.22  38.97 -27.23 -17.28 -29.45  -2.  ]\n",
      "[  7.22  34.97 -33.23 -25.28 -39.45 -14.  ]\n",
      "[  8.22  18.48 -10.08  -5.32  -6.89  -1.33]\n",
      "[   8.22   73.94  -90.68  -85.13 -172.24  -48.02]\n"
     ]
    }
   ],
   "source": [
    "print(c + a) # Adding array 'a' to array 'c' element-wise\n",
    "print (c - a) # Subtracting array 'a' from array 'c' element-wise\n",
    "print(c / a) # Dividing array 'c' by array 'a' element-wise\n",
    "print(c * a) # Multiplying array 'c' by array 'a' element-wise"
   ]
  },
  {
   "cell_type": "code",
   "execution_count": null,
   "id": "48bb43f5",
   "metadata": {},
   "outputs": [],
   "source": []
  }
 ],
 "metadata": {
  "kernelspec": {
   "display_name": "learning",
   "language": "python",
   "name": "python3"
  },
  "language_info": {
   "codemirror_mode": {
    "name": "ipython",
    "version": 3
   },
   "file_extension": ".py",
   "mimetype": "text/x-python",
   "name": "python",
   "nbconvert_exporter": "python",
   "pygments_lexer": "ipython3",
   "version": "3.13.5"
  }
 },
 "nbformat": 4,
 "nbformat_minor": 5
}
