{
 "cells": [
  {
   "cell_type": "code",
   "execution_count": 37,
   "id": "db495554",
   "metadata": {},
   "outputs": [],
   "source": [
    "from bs4 import BeautifulSoup\n",
    "\n",
    "import urllib\n",
    "import urllib.request\n",
    "import re\n"
   ]
  },
  {
   "cell_type": "code",
   "execution_count": 38,
   "id": "cd9b162c",
   "metadata": {},
   "outputs": [],
   "source": [
    "with urllib.request.urlopen(\"https://raw.githubusercontent.com/BigDataGal/Data-Mania-Demos/master/IoT-2018.html\") as response:\n",
    "    html = response.read()\n",
    "\n",
    "# here we are using urllib to fetch the HTML content of a webpage"
   ]
  },
  {
   "cell_type": "code",
   "execution_count": 39,
   "id": "f6c608dc",
   "metadata": {},
   "outputs": [
    {
     "name": "stdout",
     "output_type": "stream",
     "text": [
      "<class 'bs4.BeautifulSoup'>\n"
     ]
    }
   ],
   "source": [
    "soup = BeautifulSoup(html, 'html.parser') #here we are creating a BeautifulSoup object to parse the HTML content\n",
    "print(type(soup)) # confirming we have a BeautifulSoup object\n"
   ]
  },
  {
   "cell_type": "code",
   "execution_count": 40,
   "id": "2c7aa85b",
   "metadata": {},
   "outputs": [
    {
     "name": "stdout",
     "output_type": "stream",
     "text": [
      "<html>\n",
      " <head>\n",
      "  <title>\n",
      "   IoT Articles\n",
      "  </title>\n",
      " </head>\n",
      " <body>\n",
      "  <p class=\"title\">\n",
      "   <b>\n",
      "    2018 Trends: Best New IoT Device Ideas for Data Scientists and Engineers\n",
      "   </b>\n",
      "  </p>\n",
      "  <p class=\"description\">\n",
      "   It’s almost 2018 and IoT is on th\n"
     ]
    }
   ],
   "source": [
    "print(soup.prettify()[0:250]) #here we are using the prettify() method to format the HTML content (first 250 characters only)"
   ]
  },
  {
   "cell_type": "markdown",
   "id": "b2e92fb0",
   "metadata": {},
   "source": [
    "Stripping just text from the page..."
   ]
  },
  {
   "cell_type": "code",
   "execution_count": 41,
   "id": "76a6a961",
   "metadata": {},
   "outputs": [
    {
     "name": "stdout",
     "output_type": "stream",
     "text": [
      "IoT Articles\n",
      "\n",
      "2018 Trends: Best New IoT Device Ideas for Data Scientists and Engineers\n",
      "It’s almost 2018 and IoT is on the cusp of an explosive expansion. In this article, I offer you a listing of new IoT device ideas that you can use...\n",
      "\n",
      "\n",
      "It’s almo\n"
     ]
    }
   ],
   "source": [
    "just_text = soup.get_text() #here we are using the get_text() method to extract just the text content from the HTML\n",
    "print(just_text[0:250]) #printing the first 250 characters of the text"
   ]
  },
  {
   "cell_type": "markdown",
   "id": "e0a8c9cb",
   "metadata": {},
   "source": [
    "<h4>Searching and retrieving data from a parse tree</h4>\n",
    "Introducing the 'find_all()' method\n",
    "The find_all() method searchs a tag and its descendants to retrieve tags or strings that match your filters.\n",
    "\n",
    "<h4>Search and filtering a parse tree</h4>\n",
    "There are many different ways to access tags and strings within a parse tree. In this segment I am going to show you the following methods:\n",
    "\n",
    "<ol>\n",
    "<li>Name argument - Search for tags by filtering based on tag name</li>\n",
    "<li>Keyword argument - Search for tags by filtering based on tag attribute</li>\n",
    "<li>String argument - Search for tags by filtering based on an exact string</li>\n",
    "<li>Lists - Search for tags by filtering based on lists</li>\n",
    "<li>Boolean values- Search for tags by filtering based on a Boolean value</li>\n",
    "<li>Strings - Search for weblinks by filtering based on string objects</li>\n",
    "<li>Regular expressions - Search for tags and strings by filtering based on regular expression</li>\n",
    "</ol>\n",
    "You can pass any of these argument into the find_all() method to use as filters and return either strings or tags.\n",
    "\n",
    "<h4>Retrieving tags by filtering with name arguments</h4>\n",
    "Name argument - Search for tags by filtering based on tag name"
   ]
  },
  {
   "cell_type": "code",
   "execution_count": 42,
   "id": "afd83379",
   "metadata": {},
   "outputs": [],
   "source": [
    "# searching and retrieving data from a parse tree - specifically using the find_all() method for <li> tags\n",
    "li_tags = soup.find_all('li') # searching for all list items in the HTML \n"
   ]
  },
  {
   "cell_type": "code",
   "execution_count": 43,
   "id": "474f4eae",
   "metadata": {},
   "outputs": [
    {
     "name": "stdout",
     "output_type": "stream",
     "text": [
      "Big Data & Data Engineering: Sensors that are embedded within IoT devices spin off machine-generated data like it’s going out of style. For IoT to function, the platform must be solidly engineered to handle big data. Be assured, that requires some serious data engineering.\n",
      "Machine Learning Data Science: While a lot of IoT devices are still operated according to rules-based decision criteria, the age of artificial intelligence is upon us. IoT will increasingly depend on machine learning algorithms to control device operations so that devices are able to autonomously respond to a complex set of overlapping stimuli.\n",
      "Blockchain-Enabled Security: Above all else, IoT networks must be secure. Blockchain technology is primed to meet the security demands that come along with building and expanding the IoT.\n",
      "Enable built-in sensing to build a weather station that measures ambient temperature and humidity\n",
      "Build a system that detects discrepancies in electrical readings to identify electricity theft\n"
     ]
    }
   ],
   "source": [
    "\n",
    "li_tags = soup.find_all('li')\n",
    "li_texts = [li.get_text() for li in li_tags]\n",
    "for n in range(0,5):\n",
    "    print(li_texts[n])  \n",
    "\n",
    "# here we are chaining the find_all() method with a for loop envoking the get_text() method to print only the text content of each <li> tag (first 5 only)"
   ]
  },
  {
   "cell_type": "code",
   "execution_count": 44,
   "id": "e6c80346",
   "metadata": {},
   "outputs": [
    {
     "data": {
      "text/plain": [
       "[<a class=\"preview\" href=\"http://www.skyfilabs.com/iot-online-courses\" id=\"link 7\">SkyFi</a>]"
      ]
     },
     "execution_count": 44,
     "metadata": {},
     "output_type": "execute_result"
    }
   ],
   "source": [
    "soup.find_all(id = \"link 7\")\n",
    "# here we are using the find_all() method to search for a tag with a specific id attribute"
   ]
  },
  {
   "cell_type": "code",
   "execution_count": 47,
   "id": "37372934",
   "metadata": {},
   "outputs": [
    {
     "data": {
      "text/plain": [
       "[<head><title>IoT Articles</title></head>, <title>IoT Articles</title>]"
      ]
     },
     "execution_count": 47,
     "metadata": {},
     "output_type": "execute_result"
    }
   ],
   "source": [
    "soup.find_all([\"head\", \"title\"])\n",
    "# here we are using the find_all() method to search for multiple tags by passing a list of tag names as an argument"
   ]
  },
  {
   "cell_type": "code",
   "execution_count": 48,
   "id": "0fdb7aae",
   "metadata": {},
   "outputs": [
    {
     "name": "stdout",
     "output_type": "stream",
     "text": [
      "html\n",
      "title\n",
      "strong\n",
      "strong\n",
      "strong\n",
      "strong\n",
      "strong\n",
      "strong\n"
     ]
    }
   ],
   "source": [
    "letter_t_in_tags = re.compile(\"t\")\n",
    "for tag in soup.find_all(letter_t_in_tags):\n",
    "    print(tag.name)\n",
    "\n",
    "# here we are using the find_all() method with a regular expression to search for all tags that contain the letter \"t\" in their name"
   ]
  },
  {
   "cell_type": "code",
   "execution_count": 53,
   "id": "9bb4212c",
   "metadata": {},
   "outputs": [],
   "source": [
    "\n",
    "all_tags = []\n",
    "for tag in soup.find_all(True):\n",
    "    all_tags.append(tag.name)\n",
    "\n",
    "# here we are using the find_all() method with a boolean argument to return all tags in the HTML and appending each tag name to a list"
   ]
  },
  {
   "cell_type": "code",
   "execution_count": 54,
   "id": "e857fbb9",
   "metadata": {},
   "outputs": [
    {
     "name": "stdout",
     "output_type": "stream",
     "text": [
      "http://bit.ly/LPlNDJj\n",
      "http://www.data-mania.com/blog/m2m-vs-iot/\n",
      "bit.ly/LPlNDJj\n",
      "http://mat.se/\n",
      "http://bit.ly/LPlNDJj\n",
      "https://click.linksynergy.com/deeplink?id=*JDLXjeE*wk&mid=39197&murl=https%3A%2F%2Fwww.udemy.com%2Ftopic%2Finternet-of-things%2F%3Fsort%3Dhighest-rated\n",
      "http://www.skyfilabs.com/iot-online-courses\n",
      "https://www.coursera.org/specializations/iot\n",
      "bit.ly/LPlNDJj\n",
      "http://bit.ly/LPlNDJj\n"
     ]
    }
   ],
   "source": [
    "for link in soup.find_all('a', href=True):\n",
    "    print(link['href'])\n",
    "\n",
    "# here we are using the find_all() method to search for all anchor tags with an href attribute and printing the value of the href attribute for each tag"
   ]
  },
  {
   "cell_type": "code",
   "execution_count": 55,
   "id": "b039d4b5",
   "metadata": {},
   "outputs": [
    {
     "data": {
      "text/plain": [
       "[' & Data Engineering: Sensors that are embedded within IoT devices spin off machine-generated data like it’s going out of style. For IoT to function, the platform must be solidly engineered to handle big data. Be assured, that requires some serious data engineering.']"
      ]
     },
     "execution_count": 55,
     "metadata": {},
     "output_type": "execute_result"
    }
   ],
   "source": [
    "soup.find_all(string=re.compile(\"data\"))\n",
    "# here we are using the find_all() method with a regular expression to search for all strings that contain the word \"data\""
   ]
  }
 ],
 "metadata": {
  "kernelspec": {
   "display_name": "learning",
   "language": "python",
   "name": "learning"
  },
  "language_info": {
   "codemirror_mode": {
    "name": "ipython",
    "version": 3
   },
   "file_extension": ".py",
   "mimetype": "text/x-python",
   "name": "python",
   "nbconvert_exporter": "python",
   "pygments_lexer": "ipython3",
   "version": "3.13.5"
  }
 },
 "nbformat": 4,
 "nbformat_minor": 5
}
