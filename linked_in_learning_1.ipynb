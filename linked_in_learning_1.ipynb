{
 "cells": [
  {
   "cell_type": "markdown",
   "id": "7372672c",
   "metadata": {},
   "source": [
    "This note book follows the LinkedIn Learning Introduction to Machine Learning course"
   ]
  },
  {
   "cell_type": "code",
   "execution_count": 1,
   "id": "cf08a0c4",
   "metadata": {},
   "outputs": [],
   "source": [
    "import pandas as pd\n",
    "import numpy as np"
   ]
  },
  {
   "cell_type": "code",
   "execution_count": 2,
   "id": "02b8c10b",
   "metadata": {},
   "outputs": [],
   "source": [
    "numbers_df = pd.DataFrame(np.arange(0, 90, 3).reshape(10, 3), \n",
    "index = [f\"Row {i}\" for i in range(1, 11)], columns = [f\"Column {i}\" for i in range(1, 4)])\n",
    "\n",
    "# here we are creating a simple data frame of numbers between 0 and 90, capturing every third number only\n",
    "# this will have 10 rows and 3 columns with given indices"
   ]
  },
  {
   "cell_type": "code",
   "execution_count": 3,
   "id": "f3241582",
   "metadata": {},
   "outputs": [
    {
     "data": {
      "text/html": [
       "<div>\n",
       "<style scoped>\n",
       "    .dataframe tbody tr th:only-of-type {\n",
       "        vertical-align: middle;\n",
       "    }\n",
       "\n",
       "    .dataframe tbody tr th {\n",
       "        vertical-align: top;\n",
       "    }\n",
       "\n",
       "    .dataframe thead th {\n",
       "        text-align: right;\n",
       "    }\n",
       "</style>\n",
       "<table border=\"1\" class=\"dataframe\">\n",
       "  <thead>\n",
       "    <tr style=\"text-align: right;\">\n",
       "      <th></th>\n",
       "      <th>Column 1</th>\n",
       "      <th>Column 2</th>\n",
       "      <th>Column 3</th>\n",
       "    </tr>\n",
       "  </thead>\n",
       "  <tbody>\n",
       "    <tr>\n",
       "      <th>Row 1</th>\n",
       "      <td>0</td>\n",
       "      <td>3</td>\n",
       "      <td>6</td>\n",
       "    </tr>\n",
       "    <tr>\n",
       "      <th>Row 2</th>\n",
       "      <td>9</td>\n",
       "      <td>12</td>\n",
       "      <td>15</td>\n",
       "    </tr>\n",
       "    <tr>\n",
       "      <th>Row 3</th>\n",
       "      <td>18</td>\n",
       "      <td>21</td>\n",
       "      <td>24</td>\n",
       "    </tr>\n",
       "    <tr>\n",
       "      <th>Row 4</th>\n",
       "      <td>27</td>\n",
       "      <td>30</td>\n",
       "      <td>33</td>\n",
       "    </tr>\n",
       "    <tr>\n",
       "      <th>Row 5</th>\n",
       "      <td>36</td>\n",
       "      <td>39</td>\n",
       "      <td>42</td>\n",
       "    </tr>\n",
       "    <tr>\n",
       "      <th>Row 6</th>\n",
       "      <td>45</td>\n",
       "      <td>48</td>\n",
       "      <td>51</td>\n",
       "    </tr>\n",
       "    <tr>\n",
       "      <th>Row 7</th>\n",
       "      <td>54</td>\n",
       "      <td>57</td>\n",
       "      <td>60</td>\n",
       "    </tr>\n",
       "    <tr>\n",
       "      <th>Row 8</th>\n",
       "      <td>63</td>\n",
       "      <td>66</td>\n",
       "      <td>69</td>\n",
       "    </tr>\n",
       "    <tr>\n",
       "      <th>Row 9</th>\n",
       "      <td>72</td>\n",
       "      <td>75</td>\n",
       "      <td>78</td>\n",
       "    </tr>\n",
       "    <tr>\n",
       "      <th>Row 10</th>\n",
       "      <td>81</td>\n",
       "      <td>84</td>\n",
       "      <td>87</td>\n",
       "    </tr>\n",
       "  </tbody>\n",
       "</table>\n",
       "</div>"
      ],
      "text/plain": [
       "        Column 1  Column 2  Column 3\n",
       "Row 1          0         3         6\n",
       "Row 2          9        12        15\n",
       "Row 3         18        21        24\n",
       "Row 4         27        30        33\n",
       "Row 5         36        39        42\n",
       "Row 6         45        48        51\n",
       "Row 7         54        57        60\n",
       "Row 8         63        66        69\n",
       "Row 9         72        75        78\n",
       "Row 10        81        84        87"
      ]
     },
     "execution_count": 3,
     "metadata": {},
     "output_type": "execute_result"
    }
   ],
   "source": [
    "numbers_df\n",
    "\n",
    "#printing the DF"
   ]
  },
  {
   "cell_type": "code",
   "execution_count": null,
   "id": "aed40a5a",
   "metadata": {},
   "outputs": [
    {
     "name": "stdout",
     "output_type": "stream",
     "text": [
      "3\n"
     ]
    }
   ],
   "source": [
    "print(numbers_df.iloc[0, 1])\n",
    "\n",
    "# simple indexing (indices start at 0)\n",
    "# here we are looking at row 0 and column 1"
   ]
  },
  {
   "cell_type": "code",
   "execution_count": 5,
   "id": "09886a09",
   "metadata": {},
   "outputs": [
    {
     "data": {
      "text/plain": [
       "'\\nnumbers_df.iloc[0, 1] = 20\\nprint(numbers_df.iloc[0, 1])\\nnumbers_df\\n'"
      ]
     },
     "execution_count": 5,
     "metadata": {},
     "output_type": "execute_result"
    }
   ],
   "source": [
    "'''\n",
    "numbers_df.iloc[0, 1] = 20\n",
    "print(numbers_df.iloc[0, 1])\n",
    "numbers_df\n",
    "'''\n",
    "\n",
    "# DF objects can be changed as per above"
   ]
  },
  {
   "cell_type": "code",
   "execution_count": null,
   "id": "9e8e5edf",
   "metadata": {},
   "outputs": [
    {
     "name": "stdout",
     "output_type": "stream",
     "text": [
      "       Column 2\n",
      "Row 2        12\n",
      "Row 4        30\n",
      "Row 6        48\n"
     ]
    }
   ],
   "source": [
    "print(numbers_df.iloc[[1,3,5], [1]])\n",
    "\n",
    "# more complex indexing (indices start at 0)\n",
    "# here we are looking at rows 2, 4 and 6 and column 2"
   ]
  },
  {
   "cell_type": "code",
   "execution_count": null,
   "id": "bd37e317",
   "metadata": {},
   "outputs": [
    {
     "name": "stdout",
     "output_type": "stream",
     "text": [
      "        Column 1  Column 2  Column 3\n",
      "Row 1      False     False     False\n",
      "Row 2      False     False     False\n",
      "Row 3      False     False     False\n",
      "Row 4      False      True      True\n",
      "Row 5       True      True      True\n",
      "Row 6       True      True      True\n",
      "Row 7       True      True      True\n",
      "Row 8       True      True      True\n",
      "Row 9       True      True      True\n",
      "Row 10      True      True      True\n"
     ]
    }
   ],
   "source": [
    "mask = numbers_df >= 30\n",
    "print(mask)\n",
    "\n",
    "# identifying numbers greater than 30 -- can be any boolean condition"
   ]
  },
  {
   "cell_type": "code",
   "execution_count": null,
   "id": "a06ced70",
   "metadata": {},
   "outputs": [
    {
     "data": {
      "text/html": [
       "<div>\n",
       "<style scoped>\n",
       "    .dataframe tbody tr th:only-of-type {\n",
       "        vertical-align: middle;\n",
       "    }\n",
       "\n",
       "    .dataframe tbody tr th {\n",
       "        vertical-align: top;\n",
       "    }\n",
       "\n",
       "    .dataframe thead th {\n",
       "        text-align: right;\n",
       "    }\n",
       "</style>\n",
       "<table border=\"1\" class=\"dataframe\">\n",
       "  <thead>\n",
       "    <tr style=\"text-align: right;\">\n",
       "      <th></th>\n",
       "      <th>Column 1</th>\n",
       "      <th>Column 2</th>\n",
       "      <th>Column 3</th>\n",
       "    </tr>\n",
       "  </thead>\n",
       "  <tbody>\n",
       "    <tr>\n",
       "      <th>Row 1</th>\n",
       "      <td>NaN</td>\n",
       "      <td>NaN</td>\n",
       "      <td>NaN</td>\n",
       "    </tr>\n",
       "    <tr>\n",
       "      <th>Row 2</th>\n",
       "      <td>NaN</td>\n",
       "      <td>NaN</td>\n",
       "      <td>NaN</td>\n",
       "    </tr>\n",
       "    <tr>\n",
       "      <th>Row 3</th>\n",
       "      <td>NaN</td>\n",
       "      <td>NaN</td>\n",
       "      <td>NaN</td>\n",
       "    </tr>\n",
       "    <tr>\n",
       "      <th>Row 4</th>\n",
       "      <td>NaN</td>\n",
       "      <td>30.0</td>\n",
       "      <td>33.0</td>\n",
       "    </tr>\n",
       "    <tr>\n",
       "      <th>Row 5</th>\n",
       "      <td>36.0</td>\n",
       "      <td>39.0</td>\n",
       "      <td>42.0</td>\n",
       "    </tr>\n",
       "    <tr>\n",
       "      <th>Row 6</th>\n",
       "      <td>45.0</td>\n",
       "      <td>48.0</td>\n",
       "      <td>51.0</td>\n",
       "    </tr>\n",
       "    <tr>\n",
       "      <th>Row 7</th>\n",
       "      <td>54.0</td>\n",
       "      <td>57.0</td>\n",
       "      <td>60.0</td>\n",
       "    </tr>\n",
       "    <tr>\n",
       "      <th>Row 8</th>\n",
       "      <td>63.0</td>\n",
       "      <td>66.0</td>\n",
       "      <td>69.0</td>\n",
       "    </tr>\n",
       "    <tr>\n",
       "      <th>Row 9</th>\n",
       "      <td>72.0</td>\n",
       "      <td>75.0</td>\n",
       "      <td>78.0</td>\n",
       "    </tr>\n",
       "    <tr>\n",
       "      <th>Row 10</th>\n",
       "      <td>81.0</td>\n",
       "      <td>84.0</td>\n",
       "      <td>87.0</td>\n",
       "    </tr>\n",
       "  </tbody>\n",
       "</table>\n",
       "</div>"
      ],
      "text/plain": [
       "        Column 1  Column 2  Column 3\n",
       "Row 1        NaN       NaN       NaN\n",
       "Row 2        NaN       NaN       NaN\n",
       "Row 3        NaN       NaN       NaN\n",
       "Row 4        NaN      30.0      33.0\n",
       "Row 5       36.0      39.0      42.0\n",
       "Row 6       45.0      48.0      51.0\n",
       "Row 7       54.0      57.0      60.0\n",
       "Row 8       63.0      66.0      69.0\n",
       "Row 9       72.0      75.0      78.0\n",
       "Row 10      81.0      84.0      87.0"
      ]
     },
     "execution_count": 8,
     "metadata": {},
     "output_type": "execute_result"
    }
   ],
   "source": [
    "numbers_df[mask]\n",
    "\n",
    "# returning the subset of the DF where the boolean condition is met"
   ]
  },
  {
   "cell_type": "code",
   "execution_count": null,
   "id": "a67cd8db",
   "metadata": {},
   "outputs": [
    {
     "data": {
      "text/html": [
       "<div>\n",
       "<style scoped>\n",
       "    .dataframe tbody tr th:only-of-type {\n",
       "        vertical-align: middle;\n",
       "    }\n",
       "\n",
       "    .dataframe tbody tr th {\n",
       "        vertical-align: top;\n",
       "    }\n",
       "\n",
       "    .dataframe thead th {\n",
       "        text-align: right;\n",
       "    }\n",
       "</style>\n",
       "<table border=\"1\" class=\"dataframe\">\n",
       "  <thead>\n",
       "    <tr style=\"text-align: right;\">\n",
       "      <th></th>\n",
       "      <th>Column 2</th>\n",
       "      <th>Column 3</th>\n",
       "    </tr>\n",
       "  </thead>\n",
       "  <tbody>\n",
       "    <tr>\n",
       "      <th>Row 3</th>\n",
       "      <td>21</td>\n",
       "      <td>24</td>\n",
       "    </tr>\n",
       "    <tr>\n",
       "      <th>Row 4</th>\n",
       "      <td>30</td>\n",
       "      <td>33</td>\n",
       "    </tr>\n",
       "    <tr>\n",
       "      <th>Row 5</th>\n",
       "      <td>39</td>\n",
       "      <td>42</td>\n",
       "    </tr>\n",
       "    <tr>\n",
       "      <th>Row 6</th>\n",
       "      <td>48</td>\n",
       "      <td>51</td>\n",
       "    </tr>\n",
       "  </tbody>\n",
       "</table>\n",
       "</div>"
      ],
      "text/plain": [
       "       Column 2  Column 3\n",
       "Row 3        21        24\n",
       "Row 4        30        33\n",
       "Row 5        39        42\n",
       "Row 6        48        51"
      ]
     },
     "execution_count": 9,
     "metadata": {},
     "output_type": "execute_result"
    }
   ],
   "source": [
    "numbers_df.iloc[2:6, 1:3]\n",
    "\n",
    "# slicing 3rd to 6th row and 2nd to 3rd column"
   ]
  }
 ],
 "metadata": {
  "kernelspec": {
   "display_name": "learning",
   "language": "python",
   "name": "python3"
  },
  "language_info": {
   "codemirror_mode": {
    "name": "ipython",
    "version": 3
   },
   "file_extension": ".py",
   "mimetype": "text/x-python",
   "name": "python",
   "nbconvert_exporter": "python",
   "pygments_lexer": "ipython3",
   "version": "3.13.5"
  }
 },
 "nbformat": 4,
 "nbformat_minor": 5
}
